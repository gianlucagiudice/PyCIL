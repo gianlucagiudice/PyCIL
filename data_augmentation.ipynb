{
 "cells": [
  {
   "cell_type": "markdown",
   "metadata": {
    "collapsed": true,
    "pycharm": {
     "name": "#%% md\n"
    }
   },
   "source": [
    "# Data Augmentation"
   ]
  },
  {
   "cell_type": "markdown",
   "metadata": {
    "pycharm": {
     "name": "#%% md\n"
    }
   },
   "source": [
    "## Import transofrmations"
   ]
  },
  {
   "cell_type": "code",
   "execution_count": null,
   "metadata": {
    "pycharm": {
     "name": "#%%\n"
    }
   },
   "outputs": [],
   "source": [
    "import torch\n",
    "from utils.data import iLogoDet3K\n",
    "import random\n",
    "from PIL import Image\n",
    "import os\n",
    "from pathlib import Path\n",
    "import numpy as np\n",
    "\n",
    "\n",
    "SEED = 830694\n",
    "torch.manual_seed(SEED)\n",
    "np.random.seed(SEED)\n",
    "random.seed(SEED)\n",
    "\n",
    "augmentations = iLogoDet3K.init_data_augmentation()\n",
    "augmentations"
   ]
  },
  {
   "cell_type": "markdown",
   "metadata": {
    "pycharm": {
     "name": "#%% md\n"
    }
   },
   "source": [
    "## Read image"
   ]
  },
  {
   "cell_type": "code",
   "execution_count": null,
   "metadata": {
    "pycharm": {
     "name": "#%%\n"
    }
   },
   "outputs": [],
   "source": [
    "cropped_path = '../dataset/LogoDet-3K/cropped'\n",
    "images = os.listdir(cropped_path)\n",
    "im = Image.open(Path(cropped_path) / os.listdir(cropped_path)[13015]).convert('RGB')\n",
    "im"
   ]
  },
  {
   "cell_type": "markdown",
   "metadata": {
    "pycharm": {
     "name": "#%% md\n"
    }
   },
   "source": [
    "### Show augmentations"
   ]
  },
  {
   "cell_type": "code",
   "execution_count": null,
   "metadata": {
    "pycharm": {
     "name": "#%%\n"
    }
   },
   "outputs": [],
   "source": [
    "from torchvision import transforms\n",
    "\n",
    "affine_transformation = [\n",
    "    transforms.RandomAffine(10),\n",
    "    transforms.RandomPerspective(0.4, 1)\n",
    "]\n",
    "image_distortion = [\n",
    "    transforms.RandomAdjustSharpness(10,1),\n",
    "    transforms.RandomPosterize(5),\n",
    "    transforms.ColorJitter((0.9, 1), (0.9, 1), (0.9, 1), (-0.01, 0.01))\n",
    "]\n",
    "\n",
    "t_list = affine_transformation + image_distortion\n",
    "\n",
    "augmented_list = [t(im) for t in t_list]\n",
    "\n",
    "Image.fromarray(np.hstack(augmented_list))"
   ]
  },
  {
   "cell_type": "markdown",
   "metadata": {
    "pycharm": {
     "name": "#%% md\n"
    }
   },
   "source": [
    "### Test final augmentations"
   ]
  },
  {
   "cell_type": "code",
   "execution_count": null,
   "metadata": {
    "pycharm": {
     "name": "#%%\n"
    }
   },
   "outputs": [],
   "source": [
    "N_IMAGES = 10\n",
    "N_DISTORIONS = 6\n",
    "\n",
    "random_images = os.listdir(cropped_path)\n",
    "np.random.shuffle(random_images)\n",
    "\n",
    "distorsions = []\n",
    "for im in random_images[:N_IMAGES]:\n",
    "    im_pil = Image.open(Path(cropped_path) / im).convert('RGB')\n",
    "    distorsions.append(np.hstack([im_pil] + [augmentations[0](im_pil) for _ in range(N_DISTORIONS)]))\n",
    "\n",
    "from IPython.display import display\n",
    "\n",
    "display(*[Image.fromarray(x) for x in distorsions])"
   ]
  }
 ],
 "metadata": {
  "kernelspec": {
   "display_name": "Python 3 (ipykernel)",
   "language": "python",
   "name": "python3"
  },
  "language_info": {
   "codemirror_mode": {
    "name": "ipython",
    "version": 3
   },
   "file_extension": ".py",
   "mimetype": "text/x-python",
   "name": "python",
   "nbconvert_exporter": "python",
   "pygments_lexer": "ipython3",
   "version": "3.9.11"
  }
 },
 "nbformat": 4,
 "nbformat_minor": 1
}