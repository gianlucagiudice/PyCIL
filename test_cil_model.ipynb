{
 "cells": [
  {
   "cell_type": "code",
   "execution_count": null,
   "metadata": {
    "pycharm": {
     "name": "#%%\n"
    }
   },
   "outputs": [],
   "source": [
    "from pycil.utils.data_manager import DataManager\n",
    "import torch\n",
    "from torch.utils.data import DataLoader\n",
    "import numpy as np\n",
    "from pathlib import Path\n",
    "from utils.inc_net import DERNet\n",
    "from tqdm import tqdm"
   ]
  },
  {
   "cell_type": "code",
   "execution_count": null,
   "metadata": {
    "pycharm": {
     "name": "#%%\n"
    }
   },
   "outputs": [],
   "source": [
    "args = {\n",
    "    'dataset': 'LogoDet-3K_cropped',\n",
    "    'memory_size': 2000,\n",
    "    'memory_per_class': 1000,\n",
    "    'fixed_memory': True,\n",
    "    'shuffle': True,\n",
    "    'init_cls': 30, 'increment': 10,\n",
    "    'model_name': 'der',\n",
    "    'data_augmentation': True,\n",
    "    'seed': 830694,\n",
    "    'dropout': 0.5,\n",
    "    'convnet_type': 'resnet34',\n",
    "    'pretrained': True,\n",
    "    'adam': True,\n",
    "    'onlytop': True,\n",
    "    'baseline': False,\n",
    "    'device': torch.device('cpu')\n",
    "}\n",
    "\n",
    "data_manager = DataManager(\n",
    "    args['dataset'], args['shuffle'], args['seed'], args['init_cls'],\n",
    "    args['increment'], args.get('data_augmentation', False)\n",
    ")"
   ]
  },
  {
   "cell_type": "code",
   "execution_count": null,
   "metadata": {
    "pycharm": {
     "name": "#%%\n"
    }
   },
   "outputs": [],
   "source": [
    "# Test split\n",
    "test_dataset = data_manager.get_dataset(\n",
    "    np.arange(0, 100),\n",
    "    source='test', mode='test'\n",
    ")\n",
    "test_loader = DataLoader(\n",
    "    test_dataset, batch_size=64, shuffle=False, num_workers=8)"
   ]
  },
  {
   "cell_type": "code",
   "execution_count": null,
   "metadata": {
    "pycharm": {
     "name": "#%%\n"
    }
   },
   "outputs": [],
   "source": [
    "model_cil = DERNet(args['convnet_type'], args['pretrained'], dropout=args.get('dropout'))\n",
    "\n",
    "for task, n_update in enumerate(np.cumsum([30] + [10] * 7)):\n",
    "    print(n_update)\n",
    "    model_cil.update_fc(n_update)\n",
    "    if task > 0:\n",
    "        for i in range(task):\n",
    "            for p in model_cil.convnets[i].parameters():\n",
    "                p.requires_grad = False\n",
    "\n",
    "base = Path('/Users/gianlucagiudice/Documents/github/logo-detection-recognition/weights')\n",
    "model_cil.load_state_dict(torch.load(base / 'state_dict.pt', map_location=args['device'])['state_dict'])"
   ]
  },
  {
   "cell_type": "code",
   "execution_count": null,
   "metadata": {
    "pycharm": {
     "name": "#%%\n"
    }
   },
   "outputs": [],
   "source": [
    "model_cil.eval()\n",
    "\n",
    "y_pred, y_true = [], []\n",
    "for _, (_, inputs, targets) in tqdm(enumerate(test_loader), total=len(test_loader)):\n",
    "    inputs = inputs.to(args['device'])\n",
    "    with torch.no_grad():\n",
    "        outputs = model_cil(inputs)['logits']\n",
    "    predicts = torch.topk(outputs, k=1, dim=1, largest=True, sorted=True)[1]  # [bs, topk]\n",
    "    y_pred.append(predicts.cpu().numpy())\n",
    "    y_true.append(targets.cpu().numpy())\n",
    "\n",
    "y_pred = np.concatenate(y_pred).flatten()\n",
    "y_true = np.concatenate(y_true).flatten()"
   ]
  },
  {
   "cell_type": "code",
   "execution_count": null,
   "metadata": {
    "pycharm": {
     "name": "#%%\n"
    }
   },
   "outputs": [],
   "source": [
    "top1_acc = ((y_pred.flatten() == y_true).sum() / len(y_true)) * 100\n",
    "print(f'Top-1 accuracy: {top1_acc:.3f}')"
   ]
  }
 ],
 "metadata": {
  "kernelspec": {
   "display_name": "Python 3 (ipykernel)",
   "language": "python",
   "name": "python3"
  },
  "language_info": {
   "codemirror_mode": {
    "name": "ipython",
    "version": 3
   },
   "file_extension": ".py",
   "mimetype": "text/x-python",
   "name": "python",
   "nbconvert_exporter": "python",
   "pygments_lexer": "ipython3",
   "version": "3.10.3"
  }
 },
 "nbformat": 4,
 "nbformat_minor": 1
}