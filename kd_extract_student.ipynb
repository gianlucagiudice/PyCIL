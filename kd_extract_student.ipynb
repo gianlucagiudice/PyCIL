{
 "cells": [
  {
   "cell_type": "code",
   "execution_count": null,
   "metadata": {
    "pycharm": {
     "name": "#%%\n"
    }
   },
   "outputs": [],
   "source": [
    "import torch\n",
    "\n",
    "kd_model_checkpoint = '/Users/gianlucagiudice/Documents/github/logo-detection-recognition/weights/kd_resnet50-drop0.3-mem50.ckpt'\n",
    "\n",
    "student_arch = 'resnet50'"
   ]
  },
  {
   "cell_type": "code",
   "execution_count": null,
   "metadata": {
    "pycharm": {
     "name": "#%%\n"
    }
   },
   "outputs": [],
   "source": [
    "from pycil.teacher_student import TeacherStudent\n",
    "model = TeacherStudent.load_from_checkpoint(kd_model_checkpoint)\n",
    "model"
   ]
  },
  {
   "cell_type": "code",
   "execution_count": null,
   "metadata": {
    "pycharm": {
     "name": "#%%\n"
    }
   },
   "outputs": [],
   "source": [
    "args = model.args\n",
    "student_arch = 'resnet50'\n",
    "state_dict = model.state_dict()\n",
    "\n",
    "final_dict = {'args': args, 'arch': student_arch, 'state_dict': state_dict}\n",
    "torch.save(final_dict, '../weights/kd_resnet50-drop0.3-mem50_STATE_DICT.pt')"
   ]
  }
 ],
 "metadata": {
  "kernelspec": {
   "display_name": "Python 3 (ipykernel)",
   "language": "python",
   "name": "python3"
  },
  "language_info": {
   "codemirror_mode": {
    "name": "ipython",
    "version": 3
   },
   "file_extension": ".py",
   "mimetype": "text/x-python",
   "name": "python",
   "nbconvert_exporter": "python",
   "pygments_lexer": "ipython3",
   "version": "3.9.11"
  }
 },
 "nbformat": 4,
 "nbformat_minor": 1
}